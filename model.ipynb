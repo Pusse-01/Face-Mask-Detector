{
  "nbformat": 4,
  "nbformat_minor": 0,
  "metadata": {
    "colab": {
      "name": "Untitled0.ipynb",
      "provenance": [],
      "collapsed_sections": [],
      "authorship_tag": "ABX9TyMffx4Riv8kzMraAsYnSgd9",
      "include_colab_link": true
    },
    "kernelspec": {
      "name": "python3",
      "display_name": "Python 3"
    },
    "language_info": {
      "name": "python"
    },
    "accelerator": "GPU"
  },
  "cells": [
    {
      "cell_type": "markdown",
      "metadata": {
        "id": "view-in-github",
        "colab_type": "text"
      },
      "source": [
        "<a href=\"https://colab.research.google.com/github/Pusse-01/Face-Mask-Detector/blob/main/model.ipynb\" target=\"_parent\"><img src=\"https://colab.research.google.com/assets/colab-badge.svg\" alt=\"Open In Colab\"/></a>"
      ]
    },
    {
      "cell_type": "markdown",
      "metadata": {
        "id": "7wOOncT7GLCs"
      },
      "source": [
        "Importing Libraries and Preprocessing\n"
      ]
    },
    {
      "cell_type": "code",
      "metadata": {
        "colab": {
          "base_uri": "https://localhost:8080/"
        },
        "id": "Mn8_NPf7AL99",
        "outputId": "cff78551-d011-408b-9c9e-92bdcb8b6af1"
      },
      "source": [
        "from google.colab import drive\n",
        "drive.mount('/content/drive')"
      ],
      "execution_count": 1,
      "outputs": [
        {
          "output_type": "stream",
          "text": [
            "Drive already mounted at /content/drive; to attempt to forcibly remount, call drive.mount(\"/content/drive\", force_remount=True).\n"
          ],
          "name": "stdout"
        }
      ]
    },
    {
      "cell_type": "code",
      "metadata": {
        "id": "Remjdt7FAm9a"
      },
      "source": [
        "import tensorflow as tf\n",
        "import keras\n",
        "import cv2\n",
        "import os\n",
        "import numpy as np\n",
        "from keras.utils import np_utils\n",
        "from matplotlib import pyplot as plt\n",
        "\n",
        "from keras.models import Sequential\n",
        "from keras.layers import Dense,Activation,Flatten,Dropout,Conv2D,MaxPooling2D\n",
        "from keras.callbacks import ModelCheckpoint\n",
        "\n",
        "\n"
      ],
      "execution_count": 29,
      "outputs": []
    },
    {
      "cell_type": "code",
      "metadata": {
        "id": "vab3UaSyAubH"
      },
      "source": [
        "data_path= '/content/drive/MyDrive/Face mask detector/dataset'"
      ],
      "execution_count": 3,
      "outputs": []
    },
    {
      "cell_type": "code",
      "metadata": {
        "colab": {
          "base_uri": "https://localhost:8080/"
        },
        "id": "hoF0h9HtBK6r",
        "outputId": "f8b75671-b08a-4716-e23b-d3aaca718e77"
      },
      "source": [
        "categories=os.listdir(data_path)\n",
        "labels=[i for i in range (len(categories))]\n",
        "label_dict=dict(zip(categories,labels))\n",
        "\n",
        "print(label_dict)\n",
        "print(categories)\n",
        "print(labels)"
      ],
      "execution_count": 4,
      "outputs": [
        {
          "output_type": "stream",
          "text": [
            "{'without mask': 0, 'with mask': 1}\n",
            "['without mask', 'with mask']\n",
            "[0, 1]\n"
          ],
          "name": "stdout"
        }
      ]
    },
    {
      "cell_type": "code",
      "metadata": {
        "id": "wVkGKSR2Bbnb"
      },
      "source": [
        "img_size=100\n",
        "data=[]\n",
        "target=[]\n"
      ],
      "execution_count": 5,
      "outputs": []
    },
    {
      "cell_type": "code",
      "metadata": {
        "id": "GIkckTONCOSH"
      },
      "source": [
        "for category in categories:\n",
        "    folder_path=os.path.join(data_path,category)\n",
        "    img_names=os.listdir(folder_path)\n",
        "        \n",
        "    for img_name in img_names:\n",
        "        img_path=os.path.join(folder_path,img_name)\n",
        "        img=cv2.imread(img_path)\n",
        "\n",
        "        try:\n",
        "          gray = cv2.cvtColor(img,cv2.COLOR_BGR2GRAY)\n",
        "          resized=cv2.resize(gray,(img_size,img_size))\n",
        "          data.append(resized)\n",
        "          target.append(label_dict[category])\n",
        "          \n",
        "        except Exception as e:\n",
        "          print('Exception:',e)\n"
      ],
      "execution_count": 6,
      "outputs": []
    },
    {
      "cell_type": "code",
      "metadata": {
        "id": "ifhgeqJqFCVW"
      },
      "source": [
        "data=np.array(data)/255.0\n",
        "data=np.reshape(data,(data.shape[0],img_size,img_size,1))\n",
        "target=np.array(target)\n",
        "\n",
        "new_target=np_utils.to_categorical(target)"
      ],
      "execution_count": 7,
      "outputs": []
    },
    {
      "cell_type": "code",
      "metadata": {
        "id": "hW81S1xyF9w4"
      },
      "source": [
        "np.save('data',data)\n",
        "np.save('target',new_target)"
      ],
      "execution_count": 8,
      "outputs": []
    },
    {
      "cell_type": "markdown",
      "metadata": {
        "id": "uE-LkuQlGDFQ"
      },
      "source": [
        "Training the Model"
      ]
    },
    {
      "cell_type": "code",
      "metadata": {
        "id": "YMcVFePlGJvk"
      },
      "source": [
        "data=np.load('data.npy')\n",
        "target=np.load('target.npy')"
      ],
      "execution_count": 9,
      "outputs": []
    },
    {
      "cell_type": "code",
      "metadata": {
        "id": "znE4MPLjGlOd"
      },
      "source": [
        "model = keras.models.Sequential([keras.layers.Conv2D(200,(3,3),activation = 'relu',input_shape=data.shape[1:]),\n",
        "                                   keras.layers.MaxPool2D(2,2),\n",
        "                                   #\n",
        "                                   keras.layers.Conv2D(100,(3,3),activation = 'relu'),\n",
        "                                   keras.layers.MaxPool2D(2,2),\n",
        "                                   #\n",
        "                                   keras.layers.Flatten(),\n",
        "                                   keras.layers.Dropout(0.5),\n",
        "                                   ##\n",
        "                                   keras.layers.Dense(50,activation='relu'),\n",
        "                                   ##\n",
        "                                   keras.layers.Dense(2,activation='softmax'),\n",
        "                                   ])\n",
        "model.compile(optimizer='adam',\n",
        "              loss='binary_crossentropy',\n",
        "              metrics=['accuracy'])\n"
      ],
      "execution_count": 13,
      "outputs": []
    },
    {
      "cell_type": "code",
      "metadata": {
        "id": "gsn2xkIIIPW1"
      },
      "source": [
        "from sklearn.model_selection import train_test_split\n",
        "train_data,test_data,train_target,test_target=train_test_split(data,target,test_size=0.1)"
      ],
      "execution_count": 14,
      "outputs": []
    },
    {
      "cell_type": "code",
      "metadata": {
        "id": "dYgZjHo--u_0",
        "colab": {
          "base_uri": "https://localhost:8080/"
        },
        "outputId": "b205d845-ade9-46dc-fdc3-1b0df012511b"
      },
      "source": [
        "checkpoint = ModelCheckpoint('/content/drive/MyDrive/Face mask detector/model-{epoch:03d}.model',monitor='val_loss',verbose=0,save_best_only=True,mode='auto')\n",
        "history=model.fit(train_data,train_target,epochs=20,callbacks=[checkpoint],validation_split=0.2)"
      ],
      "execution_count": 24,
      "outputs": [
        {
          "output_type": "stream",
          "text": [
            "Epoch 1/20\n",
            "31/31 [==============================] - 3s 89ms/step - loss: 0.0260 - accuracy: 0.9899 - val_loss: 0.2637 - val_accuracy: 0.9395\n",
            "INFO:tensorflow:Assets written to: /content/drive/MyDrive/Face mask detector/model-001.model/assets\n",
            "Epoch 2/20\n",
            "31/31 [==============================] - 3s 85ms/step - loss: 0.0228 - accuracy: 0.9899 - val_loss: 0.2748 - val_accuracy: 0.9476\n",
            "Epoch 3/20\n",
            "31/31 [==============================] - 3s 85ms/step - loss: 0.0125 - accuracy: 0.9939 - val_loss: 0.2787 - val_accuracy: 0.9516\n",
            "Epoch 4/20\n",
            "31/31 [==============================] - 3s 85ms/step - loss: 0.0125 - accuracy: 0.9949 - val_loss: 0.2420 - val_accuracy: 0.9516\n",
            "INFO:tensorflow:Assets written to: /content/drive/MyDrive/Face mask detector/model-004.model/assets\n",
            "Epoch 5/20\n",
            "31/31 [==============================] - 3s 85ms/step - loss: 0.0138 - accuracy: 0.9949 - val_loss: 0.2735 - val_accuracy: 0.9476\n",
            "Epoch 6/20\n",
            "31/31 [==============================] - 3s 85ms/step - loss: 0.0227 - accuracy: 0.9889 - val_loss: 0.2584 - val_accuracy: 0.9435\n",
            "Epoch 7/20\n",
            "31/31 [==============================] - 3s 86ms/step - loss: 0.0251 - accuracy: 0.9909 - val_loss: 0.3334 - val_accuracy: 0.9355\n",
            "Epoch 8/20\n",
            "31/31 [==============================] - 3s 86ms/step - loss: 0.0210 - accuracy: 0.9929 - val_loss: 0.3326 - val_accuracy: 0.9274\n",
            "Epoch 9/20\n",
            "31/31 [==============================] - 3s 85ms/step - loss: 0.0484 - accuracy: 0.9828 - val_loss: 0.2986 - val_accuracy: 0.9355\n",
            "Epoch 10/20\n",
            "31/31 [==============================] - 3s 85ms/step - loss: 0.0195 - accuracy: 0.9949 - val_loss: 0.2707 - val_accuracy: 0.9395\n",
            "Epoch 11/20\n",
            "31/31 [==============================] - 3s 85ms/step - loss: 0.0304 - accuracy: 0.9889 - val_loss: 0.2079 - val_accuracy: 0.9516\n",
            "INFO:tensorflow:Assets written to: /content/drive/MyDrive/Face mask detector/model-011.model/assets\n",
            "Epoch 12/20\n",
            "31/31 [==============================] - 3s 85ms/step - loss: 0.0216 - accuracy: 0.9909 - val_loss: 0.2686 - val_accuracy: 0.9435\n",
            "Epoch 13/20\n",
            "31/31 [==============================] - 3s 86ms/step - loss: 0.0103 - accuracy: 0.9960 - val_loss: 0.3087 - val_accuracy: 0.9395\n",
            "Epoch 14/20\n",
            "31/31 [==============================] - 3s 86ms/step - loss: 0.0161 - accuracy: 0.9929 - val_loss: 0.2772 - val_accuracy: 0.9516\n",
            "Epoch 15/20\n",
            "31/31 [==============================] - 3s 84ms/step - loss: 0.0104 - accuracy: 0.9960 - val_loss: 0.2756 - val_accuracy: 0.9395\n",
            "Epoch 16/20\n",
            "31/31 [==============================] - 3s 85ms/step - loss: 0.0308 - accuracy: 0.9848 - val_loss: 0.3317 - val_accuracy: 0.9395\n",
            "Epoch 17/20\n",
            "31/31 [==============================] - 3s 84ms/step - loss: 0.0687 - accuracy: 0.9828 - val_loss: 0.2584 - val_accuracy: 0.9395\n",
            "Epoch 18/20\n",
            "31/31 [==============================] - 3s 85ms/step - loss: 0.0229 - accuracy: 0.9909 - val_loss: 0.3656 - val_accuracy: 0.9194\n",
            "Epoch 19/20\n",
            "31/31 [==============================] - 3s 84ms/step - loss: 0.0137 - accuracy: 0.9960 - val_loss: 0.2852 - val_accuracy: 0.9516\n",
            "Epoch 20/20\n",
            "31/31 [==============================] - 3s 85ms/step - loss: 0.0247 - accuracy: 0.9929 - val_loss: 0.3228 - val_accuracy: 0.9395\n"
          ],
          "name": "stdout"
        }
      ]
    },
    {
      "cell_type": "code",
      "metadata": {
        "colab": {
          "base_uri": "https://localhost:8080/",
          "height": 279
        },
        "id": "1ZuoYyytIcIS",
        "outputId": "456dec1a-dad4-45aa-c548-33371de9c999"
      },
      "source": [
        "plt.plot(history.history['loss'],'r',label='training loss')\n",
        "plt.plot(history.history['val_loss'],label='validation loss')\n",
        "plt.xlabel('# epochs')\n",
        "plt.ylabel('loss')\n",
        "plt.legend()\n",
        "plt.show()"
      ],
      "execution_count": 25,
      "outputs": [
        {
          "output_type": "display_data",
          "data": {
            "image/png": "[encoded data removed]",
            "text/plain": [
              "<Figure size 432x288 with 1 Axes>"
            ]
          },
          "metadata": {
            "needs_background": "light"
          }
        }
      ]
    },
    {
      "cell_type": "code",
      "metadata": {
        "colab": {
          "base_uri": "https://localhost:8080/",
          "height": 279
        },
        "id": "J6WuBKTxLjTZ",
        "outputId": "7ed80f4c-0a23-45d5-982f-596565f29690"
      },
      "source": [
        "plt.plot(history.history['accuracy'],'r',label='training accuracy')\n",
        "plt.plot(history.history['val_accuracy'],label='validation accuracy')\n",
        "plt.xlabel('# epochs')\n",
        "plt.ylabel('loss')\n",
        "plt.legend()\n",
        "plt.show()\n"
      ],
      "execution_count": 26,
      "outputs": [
        {
          "output_type": "display_data",
          "data": {
            "image/png": "[encoded data removed]",
            "text/plain": [
              "<Figure size 432x288 with 1 Axes>"
            ]
          },
          "metadata": {
            "needs_background": "light"
          }
        }
      ]
    },
    {
      "cell_type": "code",
      "metadata": {
        "id": "hp0K49h8L55b"
      },
      "source": [
        "from keras.models import load_model\n",
        "model = load_model('/content/drive/MyDrive/Face mask detector/model-017.model')\n",
        "\n",
        "face_clsfr=cv2.CascadeClassifier('/content/drive/MyDrive/Face mask detector/haarcascade_frontalface_default.xml')\n",
        "\n",
        "source=cv2.VideoCapture(0)\n",
        "\n",
        "labels_dict={0:'MASK',1:'NO MASK'}\n",
        "color_dict={0:(0,255,0),1:(0,0,255)}"
      ],
      "execution_count": 30,
      "outputs": []
    },
    {
      "cell_type": "code",
      "metadata": {
        "colab": {
          "base_uri": "https://localhost:8080/",
          "height": 249
        },
        "id": "FGpkMm6pNnrL",
        "outputId": "cca78a6f-a253-4858-929f-575d3f1a0419"
      },
      "source": [
        "while(True):\n",
        "\n",
        "    ret,img=source.read()\n",
        "    gray=cv2.cvtColor(img,cv2.COLOR_BGR2GRAY)\n",
        "    faces=face_clsfr.detectMultiScale(gray,1.3,5)  \n",
        "\n",
        "    for x,y,w,h in faces:\n",
        "    \n",
        "        face_img=gray[y:y+w,x:x+w]\n",
        "        resized=cv2.resize(face_img,(100,100))\n",
        "        normalized=resized/255.0\n",
        "        reshaped=np.reshape(normalized,(1,100,100,1))\n",
        "        result=model.predict(reshaped)\n",
        "\n",
        "        label=np.argmax(result,axis=1)[0]\n",
        "      \n",
        "        cv2.rectangle(img,(x,y),(x+w,y+h),color_dict[label],2)\n",
        "        cv2.rectangle(img,(x,y-40),(x+w,y),color_dict[label],-1)\n",
        "        cv2.putText(img, labels_dict[label], (x, y-10),cv2.FONT_HERSHEY_SIMPLEX,0.8,(255,255,255),2)\n",
        "        \n",
        "        \n",
        "    cv2.imshow('LIVE',img)\n",
        "    key=cv2.waitKey(1)\n",
        "    \n",
        "    if(key==27):\n",
        "        break\n",
        "        \n",
        "cv2.destroyAllWindows()\n",
        "source.release()"
      ],
      "execution_count": 28,
      "outputs": [
        {
          "output_type": "error",
          "ename": "error",
          "evalue": "ignored",
          "traceback": [
            "\u001b[0;31m---------------------------------------------------------------------------\u001b[0m",
            "\u001b[0;31merror\u001b[0m                                     Traceback (most recent call last)",
            "\u001b[0;32m<ipython-input-28-0d16338284e5>\u001b[0m in \u001b[0;36m<module>\u001b[0;34m()\u001b[0m\n\u001b[1;32m      2\u001b[0m \u001b[0;34m\u001b[0m\u001b[0m\n\u001b[1;32m      3\u001b[0m     \u001b[0mret\u001b[0m\u001b[0;34m,\u001b[0m\u001b[0mimg\u001b[0m\u001b[0;34m=\u001b[0m\u001b[0msource\u001b[0m\u001b[0;34m.\u001b[0m\u001b[0mread\u001b[0m\u001b[0;34m(\u001b[0m\u001b[0;34m)\u001b[0m\u001b[0;34m\u001b[0m\u001b[0;34m\u001b[0m\u001b[0m\n\u001b[0;32m----> 4\u001b[0;31m     \u001b[0mgray\u001b[0m\u001b[0;34m=\u001b[0m\u001b[0mcv2\u001b[0m\u001b[0;34m.\u001b[0m\u001b[0mcvtColor\u001b[0m\u001b[0;34m(\u001b[0m\u001b[0mimg\u001b[0m\u001b[0;34m,\u001b[0m\u001b[0mcv2\u001b[0m\u001b[0;34m.\u001b[0m\u001b[0mCOLOR_BGR2GRAY\u001b[0m\u001b[0;34m)\u001b[0m\u001b[0;34m\u001b[0m\u001b[0;34m\u001b[0m\u001b[0m\n\u001b[0m\u001b[1;32m      5\u001b[0m     \u001b[0mfaces\u001b[0m\u001b[0;34m=\u001b[0m\u001b[0mface_clsfr\u001b[0m\u001b[0;34m.\u001b[0m\u001b[0mdetectMultiScale\u001b[0m\u001b[0;34m(\u001b[0m\u001b[0mgray\u001b[0m\u001b[0;34m,\u001b[0m\u001b[0;36m1.3\u001b[0m\u001b[0;34m,\u001b[0m\u001b[0;36m5\u001b[0m\u001b[0;34m)\u001b[0m\u001b[0;34m\u001b[0m\u001b[0;34m\u001b[0m\u001b[0m\n\u001b[1;32m      6\u001b[0m \u001b[0;34m\u001b[0m\u001b[0m\n",
            "\u001b[0;31merror\u001b[0m: OpenCV(4.1.2) /io/opencv/modules/imgproc/src/color.cpp:182: error: (-215:Assertion failed) !_src.empty() in function 'cvtColor'\n"
          ]
        }
      ]
    }
  ]
}